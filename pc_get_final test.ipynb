{
 "cells": [
  {
   "cell_type": "code",
   "execution_count": 1,
   "metadata": {},
   "outputs": [],
   "source": [
    "from utils.octree import OCTree\n",
    "from utils.mesh import TriMesh\n",
    "from utils.correspondences import Correspondences\n",
    "from sklearn.mixture import GaussianMixture\n",
    "\n",
    "import numpy as np\n",
    "import os\n",
    "from PIL import Image\n",
    "from tqdm import tqdm\n",
    "\n",
    "import xml.dom.minidom"
   ]
  },
  {
   "cell_type": "code",
   "execution_count": 2,
   "metadata": {},
   "outputs": [],
   "source": [
    "class LdmkProjector:\n",
    "\tdef __init__(self):\n",
    "\t\tself.cor_builder = Correspondences()\n",
    "\t\t\n",
    "\tdef solve_eq_size2(self, coef, dest):\n",
    "\t\td = coef[0, 0] * coef[1, 1] - coef[1, 0] * coef[0, 1]\n",
    "\t\tdx = dest[:, 0] * coef[1, 1] - dest[:, 1] * coef[0, 1]\n",
    "\t\tdy = dest[:, 1] * coef[0, 0] - dest[:, 0] * coef[1, 0]\n",
    "\t\treturn dx / d, dy / d \n",
    "\n",
    "\tdef inverse_project(self, scan, scan_octree, lmk, cam_mat, trans_mat):\n",
    "\t\t# import ipdb; ipdb.set_trace()\n",
    "\t\t# inv = np.linalg.inv(cam_mat)\n",
    "\t\t# lmk_mine = np.array([lmk[0, 0],lmk[0, 1], 1])\n",
    "\t\t# result = inv.dot(lmk_mine)\n",
    "\t\t# # result 添加一个0\n",
    "\t\t# result = np.insert(result,3,0)\n",
    "\n",
    "\t\tlmk_3d_x, lmk_3d_y = self.solve_eq_size2(cam_mat[:2, :2], np.column_stack((lmk[:, 0] - cam_mat[0, 2], lmk[:, 1] - cam_mat[1, 2])))\n",
    "\t\tlmk_3d_norm =  np.column_stack((lmk_3d_x, lmk_3d_y, np.ones(len(lmk))))\n",
    "\n",
    "\t\ttm_inv = np.linalg.inv(trans_mat)\n",
    "\n",
    "\t\t# rotate_result = tm_inv.dot(result)\n",
    "\n",
    "\t\tlmk_3d_norm = np.hstack((lmk_3d_norm, np.ones((len(lmk_3d_norm), 1)))).dot(tm_inv.T)[:, :3]\n",
    "\t\tray_start = np.tile(tm_inv[:3, 3], len(lmk_3d_x)).reshape((-1, 3))\n",
    "\t\tray_dir = lmk_3d_norm - ray_start\n",
    "\t\tray_dir = ray_dir / (np.sqrt(np.sum(ray_dir ** 2, axis = 1))[:, np.newaxis] + 1e-12)\n",
    "\n",
    "\t\tray_mesh = TriMesh()\n",
    "\t\tray_mesh.vertices = ray_start\n",
    "\t\tray_mesh.vert_normal = ray_dir\n",
    "\n",
    "\t\tray_ind, tgt_face_ind, weights = self.cor_builder.nearest_tri_normal(ray_mesh, scan, scan_octree, dist_threshold = np.inf - 10, normal_threshold = -1)\n",
    "\t\t\n",
    "\t\treturn ray_ind, tgt_face_ind, weights\n",
    "\n",
    "\tdef gmm_fit(self, verts, num = 1):\n",
    "\t\tif len(verts.flatten()) <= 3:\n",
    "\t\t\treturn verts\n",
    "\t\tgmm = GaussianMixture(n_components = num, random_state = 0).fit(verts)\n",
    "\t\tind = np.argmax(gmm.weights_)\n",
    "\t\treturn gmm.means_[ind]\n",
    "\n",
    "\tdef ldmk_3d_detect(self, scan, lmk2d_lst, cam_mat_lst, trans_mat_lst):\n",
    "\t\toctree = OCTree()\n",
    "\t\toctree.from_triangles(scan.vertices, scan.faces, np.arange(scan.face_num()))\n",
    "\t\tscan.cal_face_normal()\n",
    "\n",
    "\t\tview_num = len(lmk2d_lst)\n",
    "\t\tldmk_num = lmk2d_lst[0].shape[0]\n",
    "\n",
    "\t\tlmk3d_lst = np.zeros((view_num, ldmk_num, 3), dtype = np.float32)\n",
    "\t\tnormal_lst = np.zeros((view_num, ldmk_num, 3), dtype = np.float32)\n",
    "\t\tlmk3d_mask = np.full((view_num, ldmk_num), False)\n",
    "\n",
    "\t\tfor i in range(len(lmk2d_lst)):\n",
    "\t\t\tsrc_ind, tgt_face_ind, weights = self.inverse_project(scan, octree, lmk2d_lst[i], cam_mat_lst[i], trans_mat_lst[i])\n",
    "\t\t\tlmk3d_lst[i, src_ind, :] = np.sum(scan.vertices[scan.faces[tgt_face_ind]] * weights[:, :, np.newaxis], axis = 1)\n",
    "\t\t\tnormal_lst[i, src_ind, :] = scan.face_normal[tgt_face_ind]\n",
    "\t\t\tlmk3d_mask[i, src_ind] = True \n",
    "\n",
    "\t\tlmk3d = np.zeros((ldmk_num, 3), dtype = np.float32)\n",
    "\n",
    "\t\tfor i in range(ldmk_num):\n",
    "\t\t\tlmk3d_i = lmk3d_lst[:, i, :]\n",
    "\t\t\tmask_i = lmk3d_mask[:, i]\n",
    "\t\t\tlmk3d_i = lmk3d_i[mask_i]\n",
    "\n",
    "\t\t\tray_mesh = TriMesh()\n",
    "\t\t\tray_mesh.vertices = self.gmm_fit(lmk3d_i).reshape((-1, 3))\n",
    "\t\t\tray_mesh.vert_normal = np.mean(normal_lst[:, i, :], axis = 0).reshape((-1, 3))\n",
    "\t\t\tsrc_ind, tgt_face_ind, weights = self.cor_builder.nearest_tri_normal(ray_mesh, scan, octree, dist_threshold = np.inf - 10, normal_threshold = -1)\n",
    "\n",
    "\t\t\tif len(src_ind) == 0:\n",
    "\t\t\t\tprint(f'3d landmark err!: {i}')\n",
    "\t\t\tif len(src_ind) != 0:\n",
    "\t\t\t\tlmk3d[i] = np.sum(scan.vertices[scan.faces[tgt_face_ind]] * weights[:, :, np.newaxis], axis = 1).flatten()\n",
    "\t\t\n",
    "\t\treturn lmk3d"
   ]
  },
  {
   "cell_type": "code",
   "execution_count": 3,
   "metadata": {},
   "outputs": [],
   "source": [
    "import numpy as np \n",
    "import xml.dom.minidom\n",
    "from PIL import Image\n",
    "\n",
    "def parse_cam_param(xml_path, cam_idx_lst):\n",
    "\troot = xml.dom.minidom.parse(xml_path)\n",
    "\tcam_params = root.getElementsByTagName('camera')\n",
    "\tsensor_params = root.getElementsByTagName('sensor')\n",
    "\n",
    "\tcam_mat_lst = []\n",
    "\ttrans_mat_lst = []\n",
    "\tvalid_lst = []\n",
    "\n",
    "\tfor cam_idx in cam_idx_lst:\n",
    "\t\tif '.jpg' in cam_idx or '.JPG' in cam_idx or '.png' in cam_idx or '.PNG' in cam_idx:\n",
    "\t\t\tcam_idx = cam_idx[:-4]\n",
    "\t\tcam_param = None\n",
    "\t\tsensor_param = None\n",
    "\n",
    "\t\tfor p in cam_params:\n",
    "\t\t\tif p.getAttribute('label') == cam_idx:\n",
    "\t\t\t\tcam_param = p\n",
    "\t\t\t\tbreak\n",
    "\n",
    "\t\tsensor_id = cam_param.getAttribute('sensor_id')\n",
    "\t\tfor p in sensor_params:\n",
    "\t\t\tif p.getAttribute('id') == sensor_id:\n",
    "\t\t\t\tsensor_param = p \n",
    "\t\t\t\tbreak\n",
    "\n",
    "\t\twidth = int(sensor_param.getElementsByTagName('resolution')[0].getAttribute('width'))\n",
    "\t\theight = int(sensor_param.getElementsByTagName('resolution')[0].getAttribute('height'))\n",
    "\t\n",
    "\t\tf = float(sensor_param.getElementsByTagName('f')[0].firstChild.data)\n",
    "\t\tcx = float(sensor_param.getElementsByTagName('cx')[0].firstChild.data)\n",
    "\t\tcy = float(sensor_param.getElementsByTagName('cy')[0].firstChild.data)\n",
    "\n",
    "\t\tcam_mat = np.zeros((3, 3))\n",
    "\t\tcam_mat[2, 2] = 1.0\n",
    "\n",
    "\t\t# if width > height:\n",
    "\t\t# \tcam_mat[0, 1] = -f \n",
    "\t\t# \tcam_mat[1, 0] = f \n",
    "\t\t# \tcam_mat[0, 2] = height / 2 - cy\n",
    "\t\t# \tcam_mat[1, 2] = width / 2 + cx\n",
    "\t\t# else:\n",
    "\t\tcam_mat[0, 0] = f \n",
    "\t\tcam_mat[1, 1] = f \n",
    "\t\tcam_mat[0, 2] = width / 2 + cx \n",
    "\t\tcam_mat[1, 2] = height / 2 + cy\n",
    "\n",
    "\t\tif len(cam_param.getElementsByTagName('transform')) == 0:\n",
    "\t\t\tvalid_lst.append(False)\n",
    "\t\t\tcontinue\n",
    "\n",
    "\t\ttransform = cam_param.getElementsByTagName('transform')[0].firstChild.data\n",
    "\t\tss = transform.split(' ')\n",
    "\t\ttrans_mat = np.zeros((4, 4))\n",
    "\t\tfor i in range(4):\n",
    "\t\t\tfor j in range(4):\n",
    "\t\t\t\ttrans_mat[i, j] = float(ss[i * 4 + j])\n",
    "\n",
    "\t\ttrans_mat = np.linalg.inv(trans_mat)\n",
    "\n",
    "\t\tcam_mat_lst.append(cam_mat) \n",
    "\t\ttrans_mat_lst.append(trans_mat)\n",
    "\t\tvalid_lst.append(True)\n",
    "\t\n",
    "\treturn cam_mat_lst, trans_mat_lst, valid_lst\n",
    "\n",
    "def gmm_fit(verts, num = 1):\n",
    "    if len(verts.flatten()) <= 3:\n",
    "        return verts[0]\n",
    "    gmm = GaussianMixture(n_components = num, random_state = 0).fit(verts)\n",
    "    ind = np.argmax(gmm.weights_)\n",
    "    return gmm.means_[ind]"
   ]
  },
  {
   "cell_type": "code",
   "execution_count": 4,
   "metadata": {},
   "outputs": [],
   "source": [
    "import cv2\n",
    "import cv2.aruco as aruco\n",
    "import numpy as np\n",
    "\n",
    "# Define parameters for the CharucoBoard\n",
    "num_squares_x = 7\n",
    "num_squares_y = 10\n",
    "square_length = 0.04  # length of each square side in meters\n",
    "marker_length = 0.02  # length of the markers in meters\n",
    "dictionary = aruco.getPredefinedDictionary(aruco.DICT_5X5_1000)  # you can choose a different dictionary\n",
    "\n",
    "# Define a nonzero start ID for aruco markers\n",
    "start_id = 200\n",
    "\n",
    "# Create CharucoBoard with a nonzero start ID\n",
    "board1 = aruco.CharucoBoard(\n",
    "    (num_squares_x, num_squares_y),\n",
    "    squareLength=square_length,\n",
    "    markerLength=marker_length,\n",
    "    dictionary=dictionary,\n",
    "    ids=np.arange(start_id, start_id+num_squares_x*num_squares_y//2, dtype=np.int32)\n",
    ")\n",
    "\n",
    "board2 = aruco.CharucoBoard(\n",
    "    (num_squares_x, num_squares_y),\n",
    "    squareLength=square_length,\n",
    "    markerLength=marker_length,\n",
    "    dictionary=dictionary,\n",
    "    ids=board1.getIds() + len(board1.getIds()),\n",
    ")\n"
   ]
  },
  {
   "cell_type": "code",
   "execution_count": 5,
   "metadata": {},
   "outputs": [],
   "source": [
    "def get_board_points_mean_pos_dict(board, dictionary, mesh_path, image_dir,cameras_path):\n",
    "\n",
    "    img_names = sorted([os.path.splitext(filename)[0] for filename in os.listdir(image_dir)])\n",
    "\n",
    "    cam_mat_lst, trans_mat_lst, valid_lst = parse_cam_param(cameras_path, img_names)\n",
    "\n",
    "    res_list = []\n",
    "    res_ids = None\n",
    "    valid_cam_lst = []\n",
    "    valid_trans_lst = []\n",
    "    for i, img_name  in enumerate(img_names):\n",
    "        img_path = image_dir + \"/\" +img_name + \".png\"\n",
    "        img = cv2.imread(img_path)\n",
    "        gray = cv2.cvtColor(img, cv2.COLOR_BGR2GRAY)\n",
    "        markerCorners1, markerIds1, rejectedImgPoints1 = cv2.aruco.detectMarkers(img, dictionary)\n",
    "        if len(markerCorners1) == 0:\n",
    "            continue\n",
    "        retval, charuco_corners, charuco_ids = aruco.interpolateCornersCharuco(markerCorners1, markerIds1, gray, board)\n",
    "        if retval == 0:\n",
    "            continue\n",
    "        res_list.append(charuco_corners[:,0,:])\n",
    "        if res_ids is None:\n",
    "            res_ids = charuco_ids\n",
    "        else:\n",
    "            res_ids = np.vstack((res_ids,charuco_ids))\n",
    "        valid_cam_lst.append(cam_mat_lst[i])\n",
    "        valid_trans_lst.append(trans_mat_lst[i])\n",
    "    mesh = TriMesh()\n",
    "    mesh.load(mesh_path)\n",
    "\n",
    "    projector = LdmkProjector()\n",
    "    for i in range(len(res_list)):\n",
    "        lmk_3d = projector.ldmk_3d_detect(mesh, [res_list[i]], [valid_cam_lst[i]], [valid_trans_lst[i]])\n",
    "        if i == 0 :\n",
    "            lmk_3d_list = lmk_3d\n",
    "        else:\n",
    "            lmk_3d_list = np.vstack((lmk_3d_list,lmk_3d))\n",
    "        \n",
    "        # 创建一个空字典用于存储相同ID的点\n",
    "    points_dict = {}\n",
    "\n",
    "    # 遍历res_ids和lmk_3d_list，将相同ID的点组合成子列表\n",
    "    for id, point in zip(res_ids, lmk_3d_list):\n",
    "        if int(id) not in points_dict:\n",
    "            points_dict[int(id)] = []  # 初始化空子列表\n",
    "        points_dict[int(id)].append(point)  # 将点添加到相应的子列表中\n",
    "\n",
    "    for id, points in points_dict.items():\n",
    "        points_dict[id] = gmm_fit(np.array(points))\n",
    "\n",
    "    return points_dict\n",
    "\n",
    "    "
   ]
  },
  {
   "cell_type": "code",
   "execution_count": 6,
   "metadata": {},
   "outputs": [],
   "source": [
    "exp = \"align_merge_out_2023_12_07_90degree_ldr\"\n",
    "mesh_path ='/home/yuruihan/DS-FaceScape/hdr_emitter/metashape_output/{}/model.obj'.format(exp)\n",
    "image_dir = \"/home/yuruihan/DS-FaceScape/hdr_emitter/{}\".format(exp)\n",
    "cameras_path = '/home/yuruihan/DS-FaceScape/hdr_emitter/metashape_output/{}/camera.xml'.format(exp)\n",
    "board1_points_dict = get_board_points_mean_pos_dict(board1, dictionary, mesh_path, image_dir, cameras_path)\n",
    "board2_points_dict = get_board_points_mean_pos_dict(board2, dictionary, mesh_path, image_dir, cameras_path)"
   ]
  },
  {
   "cell_type": "code",
   "execution_count": 27,
   "metadata": {},
   "outputs": [
    {
     "data": {
      "text/plain": [
       "{36: array([ 0.09233526, -0.07829256, -3.23631636]),\n",
       " 37: array([ 0.04748182, -0.08115034, -3.239055  ]),\n",
       " 42: array([ 0.09450176, -0.0744091 , -3.28042277]),\n",
       " 43: array([ 0.05019902, -0.07763858, -3.28322041]),\n",
       " 49: array([ 0.05284342, -0.07421737, -3.32730993]),\n",
       " 25: array([ 0.04165594, -0.08828286, -3.15052001]),\n",
       " 26: array([-2.19326457e-03, -9.14384499e-02, -3.15306282e+00]),\n",
       " 27: array([-0.04617888, -0.09412451, -3.15637803]),\n",
       " 32: array([ 9.46025102e-05, -8.79082959e-02, -3.19740522e+00]),\n",
       " 33: array([-0.04342739, -0.09060444, -3.2003684 ]),\n",
       " 38: array([ 2.41955498e-03, -8.42190906e-02, -3.24192226e+00]),\n",
       " 5: array([-0.14495456, -0.11373308, -2.98384146]),\n",
       " 15: array([-0.05194   , -0.10119323, -3.0678022 ], dtype=float32),\n",
       " 31: array([ 0.04456473, -0.08462416, -3.19450863]),\n",
       " 0: array([ 0.07621915, -0.09940865, -2.97025879]),\n",
       " 1: array([ 0.03146271, -0.10244664, -2.9729017 ]),\n",
       " 2: array([-0.01296286, -0.10519101, -2.97561455]),\n",
       " 3: array([-0.05701434, -0.10822371, -2.9780722 ], dtype=float32),\n",
       " 4: array([-0.10149025, -0.11115269, -2.9806201 ], dtype=float32),\n",
       " 8: array([-0.01030433, -0.10138095, -3.01994228]),\n",
       " 9: array([-0.0548959 , -0.10442939, -3.0224721 ], dtype=float32),\n",
       " 14: array([-0.00688863, -0.0982474 , -3.0646288 ], dtype=float32),\n",
       " 45: array([-0.03863626, -0.08338223, -3.28857332]),\n",
       " 46: array([-0.08322868, -0.08620117, -3.29119786]),\n",
       " 47: array([-0.1278167 , -0.08877207, -3.2937438 ], dtype=float32),\n",
       " 51: array([-0.03638505, -0.07936872, -3.33286601]),\n",
       " 52: array([-0.08062988, -0.08272211, -3.33565056]),\n",
       " 53: array([-0.12447085, -0.08532991, -3.33810226]),\n",
       " 22: array([-0.0925172 , -0.10061571, -3.1136539 ]),\n",
       " 48: array([ 0.09692845, -0.07131181, -3.32431889]),\n",
       " 44: array([ 0.00554239, -0.08043469, -3.28574772]),\n",
       " 50: array([ 0.00788388, -0.07698214, -3.33022738]),\n",
       " 28: array([-0.09029641, -0.09664671, -3.15847385]),\n",
       " 29: array([-0.13467419, -0.09915466, -3.16112685]),\n",
       " 23: array([-0.13705687, -0.10291456, -3.116963  ], dtype=float32),\n",
       " 39: array([-0.04082082, -0.08703041, -3.24431527]),\n",
       " 21: array([-0.04829983, -0.09773651, -3.1116047 ], dtype=float32),\n",
       " 18: array([ 0.0845457 , -0.08886696, -3.1033914 ], dtype=float32),\n",
       " 34: array([-0.08775063, -0.09341919, -3.202696  ], dtype=float32),\n",
       " 40: array([-0.08457316, -0.08968747, -3.2471206 ], dtype=float32),\n",
       " 41: array([-0.12869564, -0.09252316, -3.249896  ], dtype=float32)}"
      ]
     },
     "execution_count": 27,
     "metadata": {},
     "output_type": "execute_result"
    }
   ],
   "source": [
    "board1_points_dict"
   ]
  },
  {
   "cell_type": "code",
   "execution_count": 28,
   "metadata": {},
   "outputs": [
    {
     "data": {
      "text/plain": [
       "{49: array([-0.14643307, -0.16984299, -3.68430467]),\n",
       " 0: array([ 0.22215854, -0.14320473, -3.69733634]),\n",
       " 1: array([ 0.21777891, -0.14683727, -3.65314326]),\n",
       " 5: array([ 0.20080774, -0.16070747, -3.4764272 ]),\n",
       " 6: array([ 0.1770762 , -0.14551627, -3.70185447]),\n",
       " 7: array([ 0.1726314 , -0.14896523, -3.65706865]),\n",
       " 11: array([ 0.15662052, -0.16306787, -3.47967253]),\n",
       " 17: array([ 0.11178491, -0.16599118, -3.4852668 ]),\n",
       " 30: array([-0.00775441, -0.15765121, -3.71828547]),\n",
       " 36: array([-0.05373737, -0.16030059, -3.72333537]),\n",
       " 37: array([-0.05564744, -0.16393111, -3.6771399 ]),\n",
       " 47: array([-0.11384159, -0.18018579, -3.50336963]),\n",
       " 42: array([-0.09884489, -0.16354415, -3.72602777]),\n",
       " 41: array([-0.07195692, -0.17763098, -3.49874073]),\n",
       " 40: array([-0.06750536, -0.17418311, -3.54271468]),\n",
       " 43: array([-0.10328758, -0.16720642, -3.67885208]),\n",
       " 48: array([-0.14280629, -0.16637916, -3.72843182]),\n",
       " 2: array([ 0.21351021, -0.15037071, -3.60784101]),\n",
       " 3: array([ 0.20954051, -0.15360705, -3.56312954]),\n",
       " 4: array([ 0.20553513, -0.1571324 , -3.51964521]),\n",
       " 10: array([ 0.16121788, -0.16011332, -3.52260081]),\n",
       " 12: array([ 0.13458528, -0.14859091, -3.70435023]),\n",
       " 35: array([-0.02475113, -0.17436704, -3.49490666]),\n",
       " 44: array([-0.10521689, -0.17042643, -3.6336865 ], dtype=float32),\n",
       " 45: array([-0.10850029, -0.17382422, -3.5895963 ], dtype=float32),\n",
       " 46: array([-0.1119403 , -0.17710903, -3.54648987]),\n",
       " 50: array([-0.15038079, -0.1733461 , -3.6371827 ], dtype=float32),\n",
       " 51: array([-0.15370244, -0.17671275, -3.593033  ], dtype=float32),\n",
       " 52: array([-0.15712902, -0.18011576, -3.54957318]),\n",
       " 53: array([-0.15885802, -0.18335177, -3.5057407 ])}"
      ]
     },
     "execution_count": 28,
     "metadata": {},
     "output_type": "execute_result"
    }
   ],
   "source": [
    "board2_points_dict"
   ]
  },
  {
   "cell_type": "code",
   "execution_count": 30,
   "metadata": {},
   "outputs": [],
   "source": [
    "# 取出两个字典中相同ID的点，形成两个新列表，一一对应\n",
    "board1_points = []\n",
    "board2_points = []\n",
    "for id in board1_points_dict:\n",
    "    if id in board2_points_dict:\n",
    "        board1_points.append(board1_points_dict[id])\n",
    "        board2_points.append(board2_points_dict[id])\n",
    "\n",
    "# 将两个列表转换为数组\n",
    "board1_points = np.array(board1_points)\n",
    "board2_points = np.array(board2_points)\n"
   ]
  },
  {
   "cell_type": "code",
   "execution_count": 31,
   "metadata": {},
   "outputs": [
    {
     "data": {
      "text/plain": [
       "array([[ 0.09233526, -0.07829256, -3.23631636],\n",
       "       [ 0.04748182, -0.08115034, -3.239055  ],\n",
       "       [ 0.09450176, -0.0744091 , -3.28042277],\n",
       "       [ 0.05019902, -0.07763858, -3.28322041],\n",
       "       [ 0.05284342, -0.07421737, -3.32730993],\n",
       "       [-0.14495456, -0.11373308, -2.98384146],\n",
       "       [ 0.07621915, -0.09940865, -2.97025879],\n",
       "       [ 0.03146271, -0.10244664, -2.9729017 ],\n",
       "       [-0.01296286, -0.10519101, -2.97561455],\n",
       "       [-0.05701434, -0.10822371, -2.97807217],\n",
       "       [-0.10149025, -0.11115269, -2.98062015],\n",
       "       [-0.03863626, -0.08338223, -3.28857332],\n",
       "       [-0.08322868, -0.08620117, -3.29119786],\n",
       "       [-0.12781671, -0.08877207, -3.29374385],\n",
       "       [-0.03638505, -0.07936872, -3.33286601],\n",
       "       [-0.08062988, -0.08272211, -3.33565056],\n",
       "       [-0.12447085, -0.08532991, -3.33810226],\n",
       "       [ 0.09692845, -0.07131181, -3.32431889],\n",
       "       [ 0.00554239, -0.08043469, -3.28574772],\n",
       "       [ 0.00788388, -0.07698214, -3.33022738],\n",
       "       [-0.08457316, -0.08968747, -3.24712062],\n",
       "       [-0.12869564, -0.09252316, -3.24989605]])"
      ]
     },
     "execution_count": 31,
     "metadata": {},
     "output_type": "execute_result"
    }
   ],
   "source": [
    "board1_points"
   ]
  },
  {
   "cell_type": "code",
   "execution_count": 32,
   "metadata": {},
   "outputs": [
    {
     "data": {
      "text/plain": [
       "array([[-0.05373737, -0.16030059, -3.72333537],\n",
       "       [-0.05564744, -0.16393111, -3.6771399 ],\n",
       "       [-0.09884489, -0.16354415, -3.72602777],\n",
       "       [-0.10328758, -0.16720642, -3.67885208],\n",
       "       [-0.14643307, -0.16984299, -3.68430467],\n",
       "       [ 0.20080774, -0.16070747, -3.4764272 ],\n",
       "       [ 0.22215854, -0.14320473, -3.69733634],\n",
       "       [ 0.21777891, -0.14683727, -3.65314326],\n",
       "       [ 0.21351021, -0.15037071, -3.60784101],\n",
       "       [ 0.20954051, -0.15360705, -3.56312954],\n",
       "       [ 0.20553513, -0.1571324 , -3.51964521],\n",
       "       [-0.10850029, -0.17382422, -3.58959627],\n",
       "       [-0.1119403 , -0.17710903, -3.54648987],\n",
       "       [-0.11384159, -0.18018579, -3.50336963],\n",
       "       [-0.15370244, -0.17671275, -3.59303308],\n",
       "       [-0.15712902, -0.18011576, -3.54957318],\n",
       "       [-0.15885802, -0.18335177, -3.5057407 ],\n",
       "       [-0.14280629, -0.16637916, -3.72843182],\n",
       "       [-0.10521689, -0.17042643, -3.63368654],\n",
       "       [-0.15038079, -0.1733461 , -3.63718271],\n",
       "       [-0.06750536, -0.17418311, -3.54271468],\n",
       "       [-0.07195692, -0.17763098, -3.49874073]])"
      ]
     },
     "execution_count": 32,
     "metadata": {},
     "output_type": "execute_result"
    }
   ],
   "source": [
    "board2_points"
   ]
  },
  {
   "cell_type": "code",
   "execution_count": 33,
   "metadata": {},
   "outputs": [],
   "source": [
    "import estimate_rigid_transform as ert\n",
    "M = ert.affine_matrix_from_points(board1_points.transpose(), board2_points.transpose(), scale=True)"
   ]
  },
  {
   "cell_type": "code",
   "execution_count": 34,
   "metadata": {},
   "outputs": [
    {
     "data": {
      "text/plain": [
       "array([[ 2.59342657e-02, -1.45655710e-01,  1.01101263e+00,\n",
       "         3.20548323e+00],\n",
       "       [ 4.00010563e-03,  1.01134517e+00,  1.45601009e-01,\n",
       "         3.89452934e-01],\n",
       "       [-1.02144316e+00,  2.62387214e-04,  2.62396291e-02,\n",
       "        -3.54361802e+00],\n",
       "       [ 0.00000000e+00,  0.00000000e+00,  0.00000000e+00,\n",
       "         1.00000000e+00]])"
      ]
     },
     "execution_count": 34,
     "metadata": {},
     "output_type": "execute_result"
    }
   ],
   "source": [
    "M"
   ]
  },
  {
   "cell_type": "code",
   "execution_count": 36,
   "metadata": {},
   "outputs": [],
   "source": [
    "# cv2 检测marker\n",
    "res_list = []\n",
    "\n",
    "test_img_name = \"IMG_0309\"\n",
    "\n",
    "test_img_path = os.path.join(image_dir, test_img_name + \".png\")\n",
    "test_img = cv2.imread(test_img_path)\n",
    "test_gray = cv2.cvtColor(test_img, cv2.COLOR_BGR2GRAY)\n",
    "test_markerCorners1, test_markerIds1, rejectedImgPoints1 = cv2.aruco.detectMarkers(test_img, dictionary)\n",
    "retval, test_charuco_corners1, test_charuco_ids1 = aruco.interpolateCornersCharuco(test_markerCorners1, test_markerIds1, test_gray, board1)\n",
    "retval, test_charuco_corners2, test_charuco_ids2 = aruco.interpolateCornersCharuco(test_markerCorners1, test_markerIds1, test_gray, board2)"
   ]
  },
  {
   "cell_type": "code",
   "execution_count": 37,
   "metadata": {},
   "outputs": [],
   "source": [
    "# find the same id in board1 and board2\n",
    "test_board1_points = []\n",
    "test_board2_points = []\n",
    "for id in test_charuco_ids1:\n",
    "    if id in test_charuco_ids2:\n",
    "        # get the index of the same id\n",
    "        index1 = np.argwhere(test_charuco_ids1 == id)[0][0]\n",
    "        index2 = np.argwhere(test_charuco_ids2 == id)[0][0]\n",
    "        # get the points of the same id\n",
    "        test_board1_points.append(test_charuco_corners1[index1])\n",
    "        test_board2_points.append(test_charuco_corners2[index2])"
   ]
  },
  {
   "cell_type": "code",
   "execution_count": 38,
   "metadata": {},
   "outputs": [],
   "source": [
    "# test_board1_points\n",
    "# test_board2_points 在原图上用半径为10的圆标注出来 空心圆\n",
    "# 在图像上绘制圆\n",
    "marked_img = test_img.copy()\n",
    "for point in test_board1_points:\n",
    "    cv2.circle(marked_img, (int(point[0][0]), int(point[0][1])), 10, (0, 0, 255), 2)\n",
    "for point in test_board2_points:\n",
    "    cv2.circle(marked_img, (int(point[0][0]), int(point[0][1])), 10, (0, 0, 255), 2)\n"
   ]
  },
  {
   "cell_type": "code",
   "execution_count": 39,
   "metadata": {},
   "outputs": [
    {
     "data": {
      "text/plain": [
       "True"
      ]
     },
     "execution_count": 39,
     "metadata": {},
     "output_type": "execute_result"
    }
   ],
   "source": [
    "cv2.imwrite(\"./{}_mark.png\".format(test_img_name), marked_img)"
   ]
  },
  {
   "cell_type": "code",
   "execution_count": 40,
   "metadata": {},
   "outputs": [
    {
     "data": {
      "text/plain": [
       "'IMG_0309'"
      ]
     },
     "execution_count": 40,
     "metadata": {},
     "output_type": "execute_result"
    }
   ],
   "source": [
    "test_img_name"
   ]
  },
  {
   "cell_type": "code",
   "execution_count": null,
   "metadata": {},
   "outputs": [],
   "source": [
    "cam_mat_lst, trans_mat_lst, valid_lst = parse_cam_param(cameras_path, [test_img_name])\n",
    "def p2d2pd3(board_points, mesh_path, cam_mat_lst, trans_mat_lst): \n",
    "    res_list = np.array(board_points)\n",
    "    res_list = res_list[:,0,:]\n",
    "\n",
    "    mesh = TriMesh()\n",
    "    mesh.load(mesh_path)\n",
    "\n",
    "    projector = LdmkProjector()\n",
    "    for i in range(len([res_list])):\n",
    "        lmk_3d = projector.ldmk_3d_detect(mesh, [res_list], [cam_mat_lst[i]], [trans_mat_lst[i]])\n",
    "        if i == 0 :\n",
    "            lmk_3d_list = lmk_3d\n",
    "        else:\n",
    "            lmk_3d_list = np.vstack((lmk_3d_list,lmk_3d))\n",
    "    return lmk_3d_list\n",
    "board1_lmk_3d_list = p2d2pd3(test_board1_points,mesh_path, cam_mat_lst, trans_mat_lst)"
   ]
  },
  {
   "cell_type": "code",
   "execution_count": null,
   "metadata": {},
   "outputs": [],
   "source": [
    "# lmk_3d_list  M transform\n",
    "transformed_lmk_3d_list = []\n",
    "for point_3d in board1_lmk_3d_list:\n",
    "    point_3d = np.append(point_3d,1)\n",
    "    point_3d = np.dot(M,point_3d)\n",
    "    point_3d = point_3d[:3]\n",
    "    transformed_lmk_3d_list.append(point_3d)\n",
    "transformed_lmk_3d_list = np.array(transformed_lmk_3d_list)\n"
   ]
  },
  {
   "cell_type": "code",
   "execution_count": null,
   "metadata": {},
   "outputs": [],
   "source": [
    "transformed_lmk_3d_list"
   ]
  },
  {
   "cell_type": "code",
   "execution_count": null,
   "metadata": {},
   "outputs": [],
   "source": [
    "board2_lmk_3d_list = p2d2pd3(test_board2_points,mesh_path, cam_mat_lst, trans_mat_lst)"
   ]
  },
  {
   "cell_type": "code",
   "execution_count": null,
   "metadata": {},
   "outputs": [],
   "source": [
    "board2_lmk_3d_list"
   ]
  },
  {
   "cell_type": "code",
   "execution_count": null,
   "metadata": {},
   "outputs": [],
   "source": [
    "trans_mat_lst[0]"
   ]
  },
  {
   "cell_type": "code",
   "execution_count": null,
   "metadata": {},
   "outputs": [],
   "source": [
    "def transform_mat2vec(trans_mat):\n",
    "        # 提取旋转部分\n",
    "    R = trans_mat[:3, :3]\n",
    "\n",
    "    # 提取平移部分\n",
    "    t = trans_mat[:3, 3]\n",
    "\n",
    "    # 将旋转矩阵转换为旋转向量\n",
    "    rvec, _ = cv2.Rodrigues(R)\n",
    "\n",
    "    # 输出旋转向量和平移向量\n",
    "    print(\"旋转向量 (rvec):\")\n",
    "    print(rvec)\n",
    "\n",
    "    print(\"平移向量 (tvec):\")\n",
    "    print(t)\n",
    "    return rvec,t"
   ]
  },
  {
   "cell_type": "code",
   "execution_count": null,
   "metadata": {},
   "outputs": [],
   "source": [
    "rvec,tvec = transform_mat2vec(trans_mat_lst[0])\n",
    "board1_transformed_points_2d, _ = cv2.projectPoints(transformed_lmk_3d_list, rvec,tvec, cam_mat_lst[0], distCoeffs=None)"
   ]
  },
  {
   "cell_type": "code",
   "execution_count": null,
   "metadata": {},
   "outputs": [],
   "source": [
    "board1_transformed_points_2d"
   ]
  },
  {
   "cell_type": "code",
   "execution_count": null,
   "metadata": {},
   "outputs": [],
   "source": [
    "test_board2_points"
   ]
  },
  {
   "cell_type": "code",
   "execution_count": null,
   "metadata": {},
   "outputs": [],
   "source": [
    "# 在marked_img上绘制board1_transformed_points_2d\n",
    "for point in board1_transformed_points_2d:\n",
    "    cv2.circle(marked_img, (int(point[0][0]), int(point[0][1])), 10, (255, 0, 0), 2)\n",
    "cv2.imwrite(\"./{}_mark.png\".format(test_img_name), marked_img)"
   ]
  }
 ],
 "metadata": {
  "kernelspec": {
   "display_name": "hdr",
   "language": "python",
   "name": "python3"
  },
  "language_info": {
   "codemirror_mode": {
    "name": "ipython",
    "version": 3
   },
   "file_extension": ".py",
   "mimetype": "text/x-python",
   "name": "python",
   "nbconvert_exporter": "python",
   "pygments_lexer": "ipython3",
   "version": "3.8.18"
  }
 },
 "nbformat": 4,
 "nbformat_minor": 2
}
